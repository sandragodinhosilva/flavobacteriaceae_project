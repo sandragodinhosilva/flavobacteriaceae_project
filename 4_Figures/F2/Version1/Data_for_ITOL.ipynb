{
 "cells": [
  {
   "cell_type": "markdown",
   "metadata": {},
   "source": [
    "# 1.3.1 Preparation for ITOL"
   ]
  },
  {
   "cell_type": "markdown",
   "metadata": {},
   "source": [
    "Author: Sandra Godinho Silva \\\n",
    "Most updated version: 0.2 from 25/09/2020"
   ]
  },
  {
   "cell_type": "code",
   "execution_count": 30,
   "metadata": {},
   "outputs": [],
   "source": [
    "import pandas as pd"
   ]
  },
  {
   "cell_type": "code",
   "execution_count": 31,
   "metadata": {},
   "outputs": [],
   "source": [
    "#tree_newick = pd.read_csv(\"mashtree.dnd\", sep=\"\\t\")\n",
    "#tree_newick.head()"
   ]
  },
  {
   "cell_type": "code",
   "execution_count": 32,
   "metadata": {},
   "outputs": [
    {
     "data": {
      "text/html": [
       "<div>\n",
       "<style scoped>\n",
       "    .dataframe tbody tr th:only-of-type {\n",
       "        vertical-align: middle;\n",
       "    }\n",
       "\n",
       "    .dataframe tbody tr th {\n",
       "        vertical-align: top;\n",
       "    }\n",
       "\n",
       "    .dataframe thead th {\n",
       "        text-align: right;\n",
       "    }\n",
       "</style>\n",
       "<table border=\"1\" class=\"dataframe\">\n",
       "  <thead>\n",
       "    <tr style=\"text-align: right;\">\n",
       "      <th></th>\n",
       "      <th>Genome_ID</th>\n",
       "      <th>Bin_Id</th>\n",
       "      <th>Marker lineage</th>\n",
       "      <th>Completeness</th>\n",
       "      <th>Contamination</th>\n",
       "      <th>Strain_heterogeneity</th>\n",
       "      <th>Quality_score</th>\n",
       "      <th>classification</th>\n",
       "      <th>Domain</th>\n",
       "      <th>Phyla</th>\n",
       "      <th>...</th>\n",
       "      <th>scaf_L90</th>\n",
       "      <th>ctg_N90</th>\n",
       "      <th>ctg_L90</th>\n",
       "      <th>scaf_max</th>\n",
       "      <th>ctg_max</th>\n",
       "      <th>scaf_n_gt50K</th>\n",
       "      <th>scaf_pct_gt50K</th>\n",
       "      <th>gc_avg</th>\n",
       "      <th>gc_std</th>\n",
       "      <th>Classification_quality</th>\n",
       "    </tr>\n",
       "  </thead>\n",
       "  <tbody>\n",
       "    <tr>\n",
       "      <th>0</th>\n",
       "      <td>GCA_000016645.1</td>\n",
       "      <td>GCA_000016645.1_ASM1664v1_genomic</td>\n",
       "      <td>f__Flavobacteriaceae (UID2817)</td>\n",
       "      <td>99.65</td>\n",
       "      <td>0.14</td>\n",
       "      <td>0.0</td>\n",
       "      <td>98.95</td>\n",
       "      <td>d__Bacteria;p__Bacteroidota;c__Bacteroidia;o__...</td>\n",
       "      <td>Bacteria</td>\n",
       "      <td>Bacteroidota</td>\n",
       "      <td>...</td>\n",
       "      <td>6096872</td>\n",
       "      <td>1</td>\n",
       "      <td>6096872</td>\n",
       "      <td>6096872</td>\n",
       "      <td>6096872</td>\n",
       "      <td>1</td>\n",
       "      <td>100.0</td>\n",
       "      <td>0.34113</td>\n",
       "      <td>0.0</td>\n",
       "      <td>Medium</td>\n",
       "    </tr>\n",
       "    <tr>\n",
       "      <th>1</th>\n",
       "      <td>GCA_000023285.1</td>\n",
       "      <td>GCA_000023285.1_ASM2328v1_genomic</td>\n",
       "      <td>p__Bacteroidetes (UID2605)</td>\n",
       "      <td>100.00</td>\n",
       "      <td>0.00</td>\n",
       "      <td>0.0</td>\n",
       "      <td>100.00</td>\n",
       "      <td>d__Bacteria;p__Bacteroidota;c__Bacteroidia;o__...</td>\n",
       "      <td>Bacteria</td>\n",
       "      <td>Bacteroidota</td>\n",
       "      <td>...</td>\n",
       "      <td>2612925</td>\n",
       "      <td>1</td>\n",
       "      <td>2612925</td>\n",
       "      <td>2612925</td>\n",
       "      <td>2612925</td>\n",
       "      <td>1</td>\n",
       "      <td>100.0</td>\n",
       "      <td>0.39588</td>\n",
       "      <td>0.0</td>\n",
       "      <td>Medium</td>\n",
       "    </tr>\n",
       "  </tbody>\n",
       "</table>\n",
       "<p>2 rows × 35 columns</p>\n",
       "</div>"
      ],
      "text/plain": [
       "         Genome_ID                             Bin_Id  \\\n",
       "0  GCA_000016645.1  GCA_000016645.1_ASM1664v1_genomic   \n",
       "1  GCA_000023285.1  GCA_000023285.1_ASM2328v1_genomic   \n",
       "\n",
       "                   Marker lineage  Completeness  Contamination  \\\n",
       "0  f__Flavobacteriaceae (UID2817)         99.65           0.14   \n",
       "1      p__Bacteroidetes (UID2605)        100.00           0.00   \n",
       "\n",
       "   Strain_heterogeneity  Quality_score  \\\n",
       "0                   0.0          98.95   \n",
       "1                   0.0         100.00   \n",
       "\n",
       "                                      classification    Domain         Phyla  \\\n",
       "0  d__Bacteria;p__Bacteroidota;c__Bacteroidia;o__...  Bacteria  Bacteroidota   \n",
       "1  d__Bacteria;p__Bacteroidota;c__Bacteroidia;o__...  Bacteria  Bacteroidota   \n",
       "\n",
       "   ... scaf_L90 ctg_N90  ctg_L90 scaf_max  ctg_max  scaf_n_gt50K  \\\n",
       "0  ...  6096872       1  6096872  6096872  6096872             1   \n",
       "1  ...  2612925       1  2612925  2612925  2612925             1   \n",
       "\n",
       "   scaf_pct_gt50K   gc_avg  gc_std  Classification_quality  \n",
       "0           100.0  0.34113     0.0                  Medium  \n",
       "1           100.0  0.39588     0.0                  Medium  \n",
       "\n",
       "[2 rows x 35 columns]"
      ]
     },
     "execution_count": 32,
     "metadata": {},
     "output_type": "execute_result"
    }
   ],
   "source": [
    "metrics = pd.read_csv(\"../../1_Dataset_creation/Dataset.csv\")\n",
    "metrics.head(2)"
   ]
  },
  {
   "cell_type": "code",
   "execution_count": 33,
   "metadata": {},
   "outputs": [
    {
     "data": {
      "text/html": [
       "<div>\n",
       "<style scoped>\n",
       "    .dataframe tbody tr th:only-of-type {\n",
       "        vertical-align: middle;\n",
       "    }\n",
       "\n",
       "    .dataframe tbody tr th {\n",
       "        vertical-align: top;\n",
       "    }\n",
       "\n",
       "    .dataframe thead th {\n",
       "        text-align: right;\n",
       "    }\n",
       "</style>\n",
       "<table border=\"1\" class=\"dataframe\">\n",
       "  <thead>\n",
       "    <tr style=\"text-align: right;\">\n",
       "      <th></th>\n",
       "      <th>Genome_ID</th>\n",
       "      <th>Species</th>\n",
       "    </tr>\n",
       "  </thead>\n",
       "  <tbody>\n",
       "    <tr>\n",
       "      <th>0</th>\n",
       "      <td>GCA_000016645.1</td>\n",
       "      <td>Flavobacterium johnsoniae</td>\n",
       "    </tr>\n",
       "    <tr>\n",
       "      <th>1</th>\n",
       "      <td>GCA_000023285.1</td>\n",
       "      <td>Capnocytophaga ochracea</td>\n",
       "    </tr>\n",
       "  </tbody>\n",
       "</table>\n",
       "</div>"
      ],
      "text/plain": [
       "         Genome_ID                    Species\n",
       "0  GCA_000016645.1  Flavobacterium johnsoniae\n",
       "1  GCA_000023285.1    Capnocytophaga ochracea"
      ]
     },
     "execution_count": 33,
     "metadata": {},
     "output_type": "execute_result"
    }
   ],
   "source": [
    "species =metrics[[\"Genome_ID\", \"Species\"]]\n",
    "species.head(2)"
   ]
  },
  {
   "cell_type": "code",
   "execution_count": 34,
   "metadata": {},
   "outputs": [
    {
     "data": {
      "text/html": [
       "<div>\n",
       "<style scoped>\n",
       "    .dataframe tbody tr th:only-of-type {\n",
       "        vertical-align: middle;\n",
       "    }\n",
       "\n",
       "    .dataframe tbody tr th {\n",
       "        vertical-align: top;\n",
       "    }\n",
       "\n",
       "    .dataframe thead th {\n",
       "        text-align: right;\n",
       "    }\n",
       "</style>\n",
       "<table border=\"1\" class=\"dataframe\">\n",
       "  <thead>\n",
       "    <tr style=\"text-align: right;\">\n",
       "      <th></th>\n",
       "      <th>Genome_ID</th>\n",
       "      <th>Genus</th>\n",
       "    </tr>\n",
       "  </thead>\n",
       "  <tbody>\n",
       "    <tr>\n",
       "      <th>0</th>\n",
       "      <td>GCA_000016645.1</td>\n",
       "      <td>Flavobacterium</td>\n",
       "    </tr>\n",
       "    <tr>\n",
       "      <th>1</th>\n",
       "      <td>GCA_000023285.1</td>\n",
       "      <td>Capnocytophaga</td>\n",
       "    </tr>\n",
       "  </tbody>\n",
       "</table>\n",
       "</div>"
      ],
      "text/plain": [
       "         Genome_ID           Genus\n",
       "0  GCA_000016645.1  Flavobacterium\n",
       "1  GCA_000023285.1  Capnocytophaga"
      ]
     },
     "execution_count": 34,
     "metadata": {},
     "output_type": "execute_result"
    }
   ],
   "source": [
    "genus =metrics[[\"Genome_ID\", \"Genus\"]]\n",
    "genus.head(2)"
   ]
  },
  {
   "cell_type": "code",
   "execution_count": 35,
   "metadata": {},
   "outputs": [
    {
     "data": {
      "text/html": [
       "<div>\n",
       "<style scoped>\n",
       "    .dataframe tbody tr th:only-of-type {\n",
       "        vertical-align: middle;\n",
       "    }\n",
       "\n",
       "    .dataframe tbody tr th {\n",
       "        vertical-align: top;\n",
       "    }\n",
       "\n",
       "    .dataframe thead th {\n",
       "        text-align: right;\n",
       "    }\n",
       "</style>\n",
       "<table border=\"1\" class=\"dataframe\">\n",
       "  <thead>\n",
       "    <tr style=\"text-align: right;\">\n",
       "      <th></th>\n",
       "      <th>Genome_ID</th>\n",
       "      <th>Family</th>\n",
       "    </tr>\n",
       "  </thead>\n",
       "  <tbody>\n",
       "    <tr>\n",
       "      <th>0</th>\n",
       "      <td>GCA_000016645.1</td>\n",
       "      <td>Flavobacteriaceae</td>\n",
       "    </tr>\n",
       "    <tr>\n",
       "      <th>1</th>\n",
       "      <td>GCA_000023285.1</td>\n",
       "      <td>Flavobacteriaceae</td>\n",
       "    </tr>\n",
       "  </tbody>\n",
       "</table>\n",
       "</div>"
      ],
      "text/plain": [
       "         Genome_ID             Family\n",
       "0  GCA_000016645.1  Flavobacteriaceae\n",
       "1  GCA_000023285.1  Flavobacteriaceae"
      ]
     },
     "execution_count": 35,
     "metadata": {},
     "output_type": "execute_result"
    }
   ],
   "source": [
    "family =metrics[[\"Genome_ID\", \"Family\"]]\n",
    "family.head(2)"
   ]
  },
  {
   "cell_type": "markdown",
   "metadata": {},
   "source": [
    "# Value counts by taxonomy"
   ]
  },
  {
   "cell_type": "code",
   "execution_count": 36,
   "metadata": {},
   "outputs": [
    {
     "data": {
      "text/plain": [
       "Bacteria    2680\n",
       "Name: Domain, dtype: int64"
      ]
     },
     "execution_count": 36,
     "metadata": {},
     "output_type": "execute_result"
    }
   ],
   "source": [
    "metrics.Domain.value_counts()"
   ]
  },
  {
   "cell_type": "code",
   "execution_count": 37,
   "metadata": {},
   "outputs": [
    {
     "data": {
      "text/plain": [
       "Flavobacterium      589\n",
       "Chryseobacterium    294\n",
       "Elizabethkingia     193\n",
       "Capnocytophaga       75\n",
       "Tenacibaculum        68\n",
       "                   ... \n",
       "PDQE01                1\n",
       "Ochrovirga            1\n",
       "Algibacter_C          1\n",
       "Sediminicola          1\n",
       "Bin25                 1\n",
       "Name: Genus, Length: 175, dtype: int64"
      ]
     },
     "execution_count": 37,
     "metadata": {},
     "output_type": "execute_result"
    }
   ],
   "source": [
    "metrics.Genus.value_counts() "
   ]
  },
  {
   "cell_type": "markdown",
   "metadata": {},
   "source": [
    "\n",
    "# Code colors for ITOL"
   ]
  },
  {
   "cell_type": "markdown",
   "metadata": {},
   "source": [
    "## Family"
   ]
  },
  {
   "cell_type": "code",
   "execution_count": 39,
   "metadata": {},
   "outputs": [
    {
     "data": {
      "text/html": [
       "<div>\n",
       "<style scoped>\n",
       "    .dataframe tbody tr th:only-of-type {\n",
       "        vertical-align: middle;\n",
       "    }\n",
       "\n",
       "    .dataframe tbody tr th {\n",
       "        vertical-align: top;\n",
       "    }\n",
       "\n",
       "    .dataframe thead th {\n",
       "        text-align: right;\n",
       "    }\n",
       "</style>\n",
       "<table border=\"1\" class=\"dataframe\">\n",
       "  <thead>\n",
       "    <tr style=\"text-align: right;\">\n",
       "      <th></th>\n",
       "      <th>Genome_ID</th>\n",
       "      <th>color</th>\n",
       "      <th>name</th>\n",
       "    </tr>\n",
       "  </thead>\n",
       "  <tbody>\n",
       "    <tr>\n",
       "      <th>0</th>\n",
       "      <td>GCA_000016645.1</td>\n",
       "      <td>#648FFF</td>\n",
       "      <td>Flavobacteriaceae</td>\n",
       "    </tr>\n",
       "    <tr>\n",
       "      <th>1</th>\n",
       "      <td>GCA_000023285.1</td>\n",
       "      <td>#648FFF</td>\n",
       "      <td>Flavobacteriaceae</td>\n",
       "    </tr>\n",
       "  </tbody>\n",
       "</table>\n",
       "</div>"
      ],
      "text/plain": [
       "         Genome_ID    color               name\n",
       "0  GCA_000016645.1  #648FFF  Flavobacteriaceae\n",
       "1  GCA_000023285.1  #648FFF  Flavobacteriaceae"
      ]
     },
     "execution_count": 39,
     "metadata": {},
     "output_type": "execute_result"
    }
   ],
   "source": [
    "filt = (metrics.Family == \"Flavobacteriaceae\")\n",
    "f_Flavobacteriaceae = metrics.loc[filt]\n",
    "f_Flavobacteriaceae2 = f_Flavobacteriaceae.copy()\n",
    "f_Flavobacteriaceae2.loc[:,\"name\"] = \"Flavobacteriaceae\"\n",
    "f_Flavobacteriaceae2.loc[:,(\"color\")] = (\"#648FFF\")     ##3274a1\n",
    "f_F2 = f_Flavobacteriaceae2[[\"Genome_ID\", \"color\", \"name\"]]\n",
    "f_F2.head(2)"
   ]
  },
  {
   "cell_type": "code",
   "execution_count": 40,
   "metadata": {},
   "outputs": [
    {
     "data": {
      "text/html": [
       "<div>\n",
       "<style scoped>\n",
       "    .dataframe tbody tr th:only-of-type {\n",
       "        vertical-align: middle;\n",
       "    }\n",
       "\n",
       "    .dataframe tbody tr th {\n",
       "        vertical-align: top;\n",
       "    }\n",
       "\n",
       "    .dataframe thead th {\n",
       "        text-align: right;\n",
       "    }\n",
       "</style>\n",
       "<table border=\"1\" class=\"dataframe\">\n",
       "  <thead>\n",
       "    <tr style=\"text-align: right;\">\n",
       "      <th></th>\n",
       "      <th>Genome_ID</th>\n",
       "      <th>color</th>\n",
       "      <th>name</th>\n",
       "    </tr>\n",
       "  </thead>\n",
       "  <tbody>\n",
       "    <tr>\n",
       "      <th>3</th>\n",
       "      <td>GCA_000023725.1</td>\n",
       "      <td>#785EF0</td>\n",
       "      <td>Weeksellaceae</td>\n",
       "    </tr>\n",
       "    <tr>\n",
       "      <th>7</th>\n",
       "      <td>GCA_000143785.1</td>\n",
       "      <td>#785EF0</td>\n",
       "      <td>Weeksellaceae</td>\n",
       "    </tr>\n",
       "  </tbody>\n",
       "</table>\n",
       "</div>"
      ],
      "text/plain": [
       "         Genome_ID    color           name\n",
       "3  GCA_000023725.1  #785EF0  Weeksellaceae\n",
       "7  GCA_000143785.1  #785EF0  Weeksellaceae"
      ]
     },
     "execution_count": 40,
     "metadata": {},
     "output_type": "execute_result"
    }
   ],
   "source": [
    "filt = (metrics.Family == \"Weeksellaceae\")\n",
    "f_Weeksellaceae = metrics.loc[filt]\n",
    "f_Weeksellaceae2 = f_Weeksellaceae.copy()\n",
    "f_Weeksellaceae2[\"color\"] = \"#785EF0\"  ##e1812c\n",
    "f_Weeksellaceae2[\"name\"] = \"Weeksellaceae\"\n",
    "f_W2 = f_Weeksellaceae2[[\"Genome_ID\", \"color\", \"name\"]]\n",
    "f_W2.head(2)"
   ]
  },
  {
   "cell_type": "code",
   "execution_count": 41,
   "metadata": {},
   "outputs": [
    {
     "data": {
      "text/html": [
       "<div>\n",
       "<style scoped>\n",
       "    .dataframe tbody tr th:only-of-type {\n",
       "        vertical-align: middle;\n",
       "    }\n",
       "\n",
       "    .dataframe tbody tr th {\n",
       "        vertical-align: top;\n",
       "    }\n",
       "\n",
       "    .dataframe thead th {\n",
       "        text-align: right;\n",
       "    }\n",
       "</style>\n",
       "<table border=\"1\" class=\"dataframe\">\n",
       "  <thead>\n",
       "    <tr style=\"text-align: right;\">\n",
       "      <th></th>\n",
       "      <th>Genome_ID</th>\n",
       "      <th>color</th>\n",
       "      <th>name</th>\n",
       "    </tr>\n",
       "  </thead>\n",
       "  <tbody>\n",
       "    <tr>\n",
       "      <th>0</th>\n",
       "      <td>GCA_000016645.1</td>\n",
       "      <td>#648FFF</td>\n",
       "      <td>Flavobacteriaceae</td>\n",
       "    </tr>\n",
       "    <tr>\n",
       "      <th>1</th>\n",
       "      <td>GCA_000023285.1</td>\n",
       "      <td>#648FFF</td>\n",
       "      <td>Flavobacteriaceae</td>\n",
       "    </tr>\n",
       "  </tbody>\n",
       "</table>\n",
       "</div>"
      ],
      "text/plain": [
       "         Genome_ID    color               name\n",
       "0  GCA_000016645.1  #648FFF  Flavobacteriaceae\n",
       "1  GCA_000023285.1  #648FFF  Flavobacteriaceae"
      ]
     },
     "execution_count": 41,
     "metadata": {},
     "output_type": "execute_result"
    }
   ],
   "source": [
    "frames = [f_F2, f_W2]\n",
    "family_colors = pd.concat(frames, keys=['Genome_ID', 'color', 'name'])\n",
    "family_colors = family_colors.reset_index().drop(columns=[\"level_0\",\"level_1\"])\n",
    "family_colors.head(2)"
   ]
  },
  {
   "cell_type": "code",
   "execution_count": 42,
   "metadata": {},
   "outputs": [],
   "source": [
    "family_colors.to_csv(\"family_colors.tsv\", sep=\" \", header=False, index=False)"
   ]
  },
  {
   "cell_type": "markdown",
   "metadata": {},
   "source": [
    "\n",
    "## Genus"
   ]
  },
  {
   "cell_type": "code",
   "execution_count": 43,
   "metadata": {},
   "outputs": [
    {
     "name": "stdout",
     "output_type": "stream",
     "text": [
      "['#D8DD9A', '#161A09', '#87A75B', '#BD200F', '#10DF31', '#8354C7', '#A232FF', '#A2A230', '#CD1054', '#A24236', '#6D8240', '#2CB0B3', '#6DDD30', '#5518A7', '#773D38', '#952772', '#1CE83A', '#C58FBC', '#A6DEC7', '#6BF4CB', '#316662', '#6809EA', '#AE5F83', '#748FED', '#074C03', '#370DD1', '#0162DB', '#56CA38', '#C7B28E', '#8B57EE', '#26FC28', '#07D91A', '#EEAB98', '#ABDD7A', '#A2066D', '#F5212D', '#C46D16', '#B65591', '#B5614F', '#8DA335', '#A3E1DE', '#7822DB', '#1278E8', '#452B74', '#F62187', '#8F7513', '#64F7AE', '#FD59CC', '#3D669C', '#70C9B0', '#36E3E7', '#523236', '#503785', '#8D3A01', '#E1BA20', '#F3CDF2', '#F08FA2', '#62B2FF', '#C32CB6', '#690FE8', '#5402BD', '#594E5A', '#F62CA7', '#741250', '#3D0EA6', '#548FDA', '#FEFB1A', '#AB9927', '#243A0A', '#B1DA35', '#FE083F', '#E5F967', '#4BBAEA', '#840A7F', '#E25F29', '#2574BB', '#51817D', '#4C8929', '#A67AA7', '#B2DE62', '#BFDB68', '#C22478', '#2DED75', '#5318F5', '#EB74A5', '#E41865', '#95F4E7', '#3A4D14', '#B7C79B', '#F20804', '#C1DEF9', '#0E9D50', '#BA04F2', '#49CC7F', '#FF3076', '#2B6E43', '#5416C7', '#5FA8EB', '#0E4605', '#67EAE1', '#70CC4F', '#F7E738', '#7D1382', '#FF3FF0', '#A95066', '#C5E3F2', '#C9E2C7', '#02870D', '#7A62F0', '#A7B9FE', '#46FC4C', '#7A1C66', '#0B1F46', '#3D406F', '#FF710D', '#31BA94', '#293F83', '#59E921', '#78D0EB', '#136CCA', '#D32C58', '#05202C', '#B24456', '#B62813', '#FD41BD', '#B49BE5', '#BC912C', '#E49FF0', '#4AA1E8', '#A16934', '#5F2405', '#124F8E', '#67B29F', '#4AF552', '#F8E2A4', '#C4678A', '#6420FB', '#C508EF', '#B2F9A8', '#E0657D', '#DF2B88', '#219000', '#A60A21', '#666305', '#758D54', '#C5EF56', '#22495E', '#0D2847', '#53465D', '#778517', '#3509A5', '#950B0A', '#50AFE9', '#C3BBF8', '#F341B6', '#469275', '#AED609', '#AF0B7E', '#D33DAD', '#E521F1', '#1F98A2', '#9CAC8F', '#F699E2', '#DEE232', '#AA5C85', '#D7CFE5', '#273795', '#345C02', '#C4DC4B', '#F3D7D4', '#7BA06E', '#3C8433', '#CF2C08', '#947628', '#C8E633']\n"
     ]
    }
   ],
   "source": [
    "import matplotlib.pyplot as plt\n",
    "import random\n",
    "\n",
    "number_of_colors = 175\n",
    "color = [\"#\"+''.join([random.choice('0123456789ABCDEF') for j in range(6)])\n",
    "             for i in range(number_of_colors)]\n",
    "print((color))"
   ]
  },
  {
   "cell_type": "code",
   "execution_count": 44,
   "metadata": {},
   "outputs": [],
   "source": [
    "i_want_hue_65 = [\"#af309e\",\n",
    "\"#66c144\",\n",
    "\"#a95cdc\",\n",
    "\"#3dd47e\",\n",
    "\"#d96be5\",\n",
    "\"#43b85d\",\n",
    "\"#7b43ba\",\n",
    "\"#a7bc38\",\n",
    "\"#5376ee\",\n",
    "\"#609a23\",\n",
    "\"#8f75e5\",\n",
    "\"#d5b236\",\n",
    "\"#4757be\",\n",
    "\"#d98b2e\",\n",
    "\"#5a89e0\",\n",
    "\"#c44016\",\n",
    "\"#4cd2c3\",\n",
    "\"#e52f66\",\n",
    "\"#4fc48f\",\n",
    "\"#da4cb0\",\n",
    "\"#3d9341\",\n",
    "\"#c27ce4\",\n",
    "\"#397327\",\n",
    "\"#ea4890\",\n",
    "\"#81be6d\",\n",
    "\"#bc2d74\",\n",
    "\"#3b8f5f\",\n",
    "\"#df80d6\",\n",
    "\"#727a21\",\n",
    "\"#8d499c\",\n",
    "\"#a39733\",\n",
    "\"#9276c0\",\n",
    "\"#535e0f\",\n",
    "\"#aea2e7\",\n",
    "\"#e96b39\",\n",
    "\"#3fbecb\",\n",
    "\"#e44a4d\",\n",
    "\"#36a18a\",\n",
    "\"#b6302a\",\n",
    "\"#369bc5\",\n",
    "\"#d74b65\",\n",
    "\"#7bbd94\",\n",
    "\"#a7325e\",\n",
    "\"#71934c\",\n",
    "\"#d768a1\",\n",
    "\"#306a3c\",\n",
    "\"#d890c2\",\n",
    "\"#1a6447\",\n",
    "\"#ee8694\",\n",
    "\"#368166\",\n",
    "\"#b4454d\",\n",
    "\"#64a9e2\",\n",
    "\"#aa502d\",\n",
    "\"#5064a3\",\n",
    "\"#b1b86d\",\n",
    "\"#9f5d91\",\n",
    "\"#526229\",\n",
    "\"#8f4667\",\n",
    "\"#d1a562\",\n",
    "\"#994a4e\",\n",
    "\"#807a45\",\n",
    "\"#c36d79\",\n",
    "\"#8c681f\",\n",
    "\"#e68e6f\",\n",
    "\"#9e693d\"]"
   ]
  },
  {
   "cell_type": "code",
   "execution_count": 45,
   "metadata": {},
   "outputs": [],
   "source": [
    "genus_reduced = genus.groupby([\"Genus\"]).filter(lambda x:x[\"Genus\"].count()>7)\n",
    "genus_list_reduced = genus_reduced[\"Genus\"].unique()"
   ]
  },
  {
   "cell_type": "code",
   "execution_count": 46,
   "metadata": {},
   "outputs": [],
   "source": [
    "genus_list = genus[\"Genus\"].unique()"
   ]
  },
  {
   "cell_type": "code",
   "execution_count": 47,
   "metadata": {},
   "outputs": [],
   "source": [
    "d={}\n",
    "i=0\n",
    "for g in genus_list_reduced:\n",
    "    d[g] = i_want_hue_65[i]\n",
    "    i+=1"
   ]
  },
  {
   "cell_type": "code",
   "execution_count": 48,
   "metadata": {},
   "outputs": [
    {
     "data": {
      "text/html": [
       "<div>\n",
       "<style scoped>\n",
       "    .dataframe tbody tr th:only-of-type {\n",
       "        vertical-align: middle;\n",
       "    }\n",
       "\n",
       "    .dataframe tbody tr th {\n",
       "        vertical-align: top;\n",
       "    }\n",
       "\n",
       "    .dataframe thead th {\n",
       "        text-align: right;\n",
       "    }\n",
       "</style>\n",
       "<table border=\"1\" class=\"dataframe\">\n",
       "  <thead>\n",
       "    <tr style=\"text-align: right;\">\n",
       "      <th></th>\n",
       "      <th>index</th>\n",
       "      <th>color</th>\n",
       "    </tr>\n",
       "  </thead>\n",
       "  <tbody>\n",
       "    <tr>\n",
       "      <th>0</th>\n",
       "      <td>Flavobacterium</td>\n",
       "      <td>#af309e</td>\n",
       "    </tr>\n",
       "    <tr>\n",
       "      <th>1</th>\n",
       "      <td>Capnocytophaga</td>\n",
       "      <td>#66c144</td>\n",
       "    </tr>\n",
       "  </tbody>\n",
       "</table>\n",
       "</div>"
      ],
      "text/plain": [
       "            index    color\n",
       "0  Flavobacterium  #af309e\n",
       "1  Capnocytophaga  #66c144"
      ]
     },
     "execution_count": 48,
     "metadata": {},
     "output_type": "execute_result"
    }
   ],
   "source": [
    "df = pd.DataFrame.from_dict(d, orient='index')\n",
    "df = df.reset_index()\n",
    "df.columns = [\"index\", \"color\"]\n",
    "df.head(2)"
   ]
  },
  {
   "cell_type": "code",
   "execution_count": 49,
   "metadata": {},
   "outputs": [
    {
     "data": {
      "text/html": [
       "<div>\n",
       "<style scoped>\n",
       "    .dataframe tbody tr th:only-of-type {\n",
       "        vertical-align: middle;\n",
       "    }\n",
       "\n",
       "    .dataframe tbody tr th {\n",
       "        vertical-align: top;\n",
       "    }\n",
       "\n",
       "    .dataframe thead th {\n",
       "        text-align: right;\n",
       "    }\n",
       "</style>\n",
       "<table border=\"1\" class=\"dataframe\">\n",
       "  <thead>\n",
       "    <tr style=\"text-align: right;\">\n",
       "      <th></th>\n",
       "      <th>Genome_ID</th>\n",
       "      <th>color</th>\n",
       "      <th>Genus</th>\n",
       "    </tr>\n",
       "  </thead>\n",
       "  <tbody>\n",
       "    <tr>\n",
       "      <th>0</th>\n",
       "      <td>GCA_000016645.1</td>\n",
       "      <td>#af309e</td>\n",
       "      <td>Flavobacterium</td>\n",
       "    </tr>\n",
       "    <tr>\n",
       "      <th>1</th>\n",
       "      <td>GCA_000023285.1</td>\n",
       "      <td>#66c144</td>\n",
       "      <td>Capnocytophaga</td>\n",
       "    </tr>\n",
       "    <tr>\n",
       "      <th>2</th>\n",
       "      <td>GCA_000023465.1</td>\n",
       "      <td>#a95cdc</td>\n",
       "      <td>Zunongwangia</td>\n",
       "    </tr>\n",
       "    <tr>\n",
       "      <th>3</th>\n",
       "      <td>GCA_000023725.1</td>\n",
       "      <td>#3dd47e</td>\n",
       "      <td>Kaistella</td>\n",
       "    </tr>\n",
       "    <tr>\n",
       "      <th>4</th>\n",
       "      <td>GCA_000024125.1</td>\n",
       "      <td>#000000</td>\n",
       "      <td>Robiginitalea</td>\n",
       "    </tr>\n",
       "  </tbody>\n",
       "</table>\n",
       "</div>"
      ],
      "text/plain": [
       "         Genome_ID    color           Genus\n",
       "0  GCA_000016645.1  #af309e  Flavobacterium\n",
       "1  GCA_000023285.1  #66c144  Capnocytophaga\n",
       "2  GCA_000023465.1  #a95cdc    Zunongwangia\n",
       "3  GCA_000023725.1  #3dd47e       Kaistella\n",
       "4  GCA_000024125.1  #000000   Robiginitalea"
      ]
     },
     "execution_count": 49,
     "metadata": {},
     "output_type": "execute_result"
    }
   ],
   "source": [
    "merge_genus = pd.merge(genus, df, how=\"left\", left_on=\"Genus\", right_on=\"index\").drop(columns=\"index\")\n",
    "merge_genus[\"color\"] =merge_genus[\"color\"].fillna(\"#000000\")\n",
    "merge_genus = merge_genus[[\"Genome_ID\", \"color\", \"Genus\"]]\n",
    "merge_genus.head()"
   ]
  },
  {
   "cell_type": "code",
   "execution_count": 50,
   "metadata": {},
   "outputs": [
    {
     "name": "stdout",
     "output_type": "stream",
     "text": [
      "Flavobacterium Chryseobacterium Elizabethkingia Capnocytophaga Tenacibaculum Riemerella Polaribacter Winogradskyella Muricauda Myroides Kaistella Maribacter Empedobacter Aequorivita Aquimarina\n"
     ]
    }
   ],
   "source": [
    "count = merge_genus.groupby(['Genus']).count().sort_values(by=\"Genome_ID\",ascending=False).reset_index()\n",
    "#print(count) \n",
    "genus_ordered = count[\"Genus\"].to_list()\n",
    "print(*genus_ordered[0:15], sep= \" \")"
   ]
  },
  {
   "cell_type": "code",
   "execution_count": 51,
   "metadata": {},
   "outputs": [
    {
     "name": "stdout",
     "output_type": "stream",
     "text": [
      "#af309e #43b85d #c27ce4 #66c144 #aea2e7 #c44016 #a7bc38 #4757be #3d9341 #397327 #3dd47e #3fbecb #df80d6 #81be6d #4fc48f\n"
     ]
    }
   ],
   "source": [
    "l_colors=[]\n",
    "for i in genus_ordered[0:15]:\n",
    "    l_colors.append(d[i])\n",
    "print(*l_colors, sep =' ')"
   ]
  },
  {
   "cell_type": "code",
   "execution_count": 52,
   "metadata": {},
   "outputs": [],
   "source": [
    "merge_genus.to_csv(\"genus_colors.tsv\", sep=\" \", header=False, index=False)"
   ]
  },
  {
   "cell_type": "markdown",
   "metadata": {},
   "source": [
    "# Metadata"
   ]
  },
  {
   "cell_type": "code",
   "execution_count": 53,
   "metadata": {},
   "outputs": [],
   "source": [
    "metadata = pd.read_csv(\"../../2_Metadata/Metadata_final.csv\")"
   ]
  },
  {
   "cell_type": "code",
   "execution_count": 54,
   "metadata": {},
   "outputs": [
    {
     "data": {
      "text/html": [
       "<div>\n",
       "<style scoped>\n",
       "    .dataframe tbody tr th:only-of-type {\n",
       "        vertical-align: middle;\n",
       "    }\n",
       "\n",
       "    .dataframe tbody tr th {\n",
       "        vertical-align: top;\n",
       "    }\n",
       "\n",
       "    .dataframe thead th {\n",
       "        text-align: right;\n",
       "    }\n",
       "</style>\n",
       "<table border=\"1\" class=\"dataframe\">\n",
       "  <thead>\n",
       "    <tr style=\"text-align: right;\">\n",
       "      <th></th>\n",
       "      <th>Assembly accession</th>\n",
       "      <th>Origin</th>\n",
       "    </tr>\n",
       "  </thead>\n",
       "  <tbody>\n",
       "    <tr>\n",
       "      <th>0</th>\n",
       "      <td>GCA_000016645.1</td>\n",
       "      <td>Non_marine</td>\n",
       "    </tr>\n",
       "    <tr>\n",
       "      <th>1</th>\n",
       "      <td>GCA_000023285.1</td>\n",
       "      <td>Non_marine</td>\n",
       "    </tr>\n",
       "    <tr>\n",
       "      <th>2</th>\n",
       "      <td>GCA_000023465.1</td>\n",
       "      <td>Unclassified</td>\n",
       "    </tr>\n",
       "    <tr>\n",
       "      <th>3</th>\n",
       "      <td>GCA_000023725.1</td>\n",
       "      <td>Non_marine</td>\n",
       "    </tr>\n",
       "    <tr>\n",
       "      <th>4</th>\n",
       "      <td>GCA_000024125.1</td>\n",
       "      <td>Unclassified</td>\n",
       "    </tr>\n",
       "  </tbody>\n",
       "</table>\n",
       "</div>"
      ],
      "text/plain": [
       "  Assembly accession        Origin\n",
       "0    GCA_000016645.1    Non_marine\n",
       "1    GCA_000023285.1    Non_marine\n",
       "2    GCA_000023465.1  Unclassified\n",
       "3    GCA_000023725.1    Non_marine\n",
       "4    GCA_000024125.1  Unclassified"
      ]
     },
     "execution_count": 54,
     "metadata": {},
     "output_type": "execute_result"
    }
   ],
   "source": [
    "origin = metadata[[\"Assembly accession\",\"Origin\"]]\n",
    "origin.head()"
   ]
  },
  {
   "cell_type": "code",
   "execution_count": 55,
   "metadata": {},
   "outputs": [
    {
     "data": {
      "text/html": [
       "<div>\n",
       "<style scoped>\n",
       "    .dataframe tbody tr th:only-of-type {\n",
       "        vertical-align: middle;\n",
       "    }\n",
       "\n",
       "    .dataframe tbody tr th {\n",
       "        vertical-align: top;\n",
       "    }\n",
       "\n",
       "    .dataframe thead th {\n",
       "        text-align: right;\n",
       "    }\n",
       "</style>\n",
       "<table border=\"1\" class=\"dataframe\">\n",
       "  <thead>\n",
       "    <tr style=\"text-align: right;\">\n",
       "      <th></th>\n",
       "      <th>Assembly accession</th>\n",
       "      <th>color</th>\n",
       "      <th>name</th>\n",
       "    </tr>\n",
       "  </thead>\n",
       "  <tbody>\n",
       "    <tr>\n",
       "      <th>8</th>\n",
       "      <td>GCA_000152925.3</td>\n",
       "      <td>#101070</td>\n",
       "      <td>Marine</td>\n",
       "    </tr>\n",
       "    <tr>\n",
       "      <th>25</th>\n",
       "      <td>GCA_000186265.1</td>\n",
       "      <td>#101070</td>\n",
       "      <td>Marine</td>\n",
       "    </tr>\n",
       "  </tbody>\n",
       "</table>\n",
       "</div>"
      ],
      "text/plain": [
       "   Assembly accession    color    name\n",
       "8     GCA_000152925.3  #101070  Marine\n",
       "25    GCA_000186265.1  #101070  Marine"
      ]
     },
     "execution_count": 55,
     "metadata": {},
     "output_type": "execute_result"
    }
   ],
   "source": [
    "filt = (origin.Origin == \"Marine\")\n",
    "marine = origin.loc[filt]\n",
    "marine = marine.copy()\n",
    "marine.loc[:,\"name\"] = \"Marine\"\n",
    "marine.loc[:,(\"color\")] = (\"#101070\")\n",
    "marine = marine[[\"Assembly accession\", \"color\", \"name\"]]\n",
    "marine.head(2)"
   ]
  },
  {
   "cell_type": "code",
   "execution_count": 56,
   "metadata": {},
   "outputs": [
    {
     "data": {
      "text/html": [
       "<div>\n",
       "<style scoped>\n",
       "    .dataframe tbody tr th:only-of-type {\n",
       "        vertical-align: middle;\n",
       "    }\n",
       "\n",
       "    .dataframe tbody tr th {\n",
       "        vertical-align: top;\n",
       "    }\n",
       "\n",
       "    .dataframe thead th {\n",
       "        text-align: right;\n",
       "    }\n",
       "</style>\n",
       "<table border=\"1\" class=\"dataframe\">\n",
       "  <thead>\n",
       "    <tr style=\"text-align: right;\">\n",
       "      <th></th>\n",
       "      <th>Assembly accession</th>\n",
       "      <th>color</th>\n",
       "      <th>name</th>\n",
       "    </tr>\n",
       "  </thead>\n",
       "  <tbody>\n",
       "    <tr>\n",
       "      <th>0</th>\n",
       "      <td>GCA_000016645.1</td>\n",
       "      <td>#2f7e2f</td>\n",
       "      <td>Non marine</td>\n",
       "    </tr>\n",
       "    <tr>\n",
       "      <th>1</th>\n",
       "      <td>GCA_000023285.1</td>\n",
       "      <td>#2f7e2f</td>\n",
       "      <td>Non marine</td>\n",
       "    </tr>\n",
       "  </tbody>\n",
       "</table>\n",
       "</div>"
      ],
      "text/plain": [
       "  Assembly accession    color        name\n",
       "0    GCA_000016645.1  #2f7e2f  Non marine\n",
       "1    GCA_000023285.1  #2f7e2f  Non marine"
      ]
     },
     "execution_count": 56,
     "metadata": {},
     "output_type": "execute_result"
    }
   ],
   "source": [
    "filt = (origin.Origin == \"Non_marine\")\n",
    "non_marine = origin.loc[filt]\n",
    "non_marine = non_marine.copy()\n",
    "non_marine.loc[:,\"name\"] = \"Non marine\"\n",
    "non_marine.loc[:,(\"color\")] = (\"#2f7e2f\")\n",
    "non_marine = non_marine[[\"Assembly accession\", \"color\", \"name\"]]\n",
    "non_marine.head(2)"
   ]
  },
  {
   "cell_type": "code",
   "execution_count": 57,
   "metadata": {},
   "outputs": [
    {
     "data": {
      "text/html": [
       "<div>\n",
       "<style scoped>\n",
       "    .dataframe tbody tr th:only-of-type {\n",
       "        vertical-align: middle;\n",
       "    }\n",
       "\n",
       "    .dataframe tbody tr th {\n",
       "        vertical-align: top;\n",
       "    }\n",
       "\n",
       "    .dataframe thead th {\n",
       "        text-align: right;\n",
       "    }\n",
       "</style>\n",
       "<table border=\"1\" class=\"dataframe\">\n",
       "  <thead>\n",
       "    <tr style=\"text-align: right;\">\n",
       "      <th></th>\n",
       "      <th>Assembly accession</th>\n",
       "      <th>color</th>\n",
       "      <th>name</th>\n",
       "    </tr>\n",
       "  </thead>\n",
       "  <tbody>\n",
       "    <tr>\n",
       "      <th>2</th>\n",
       "      <td>GCA_000023465.1</td>\n",
       "      <td>#9c9c9e</td>\n",
       "      <td>Unclassified</td>\n",
       "    </tr>\n",
       "    <tr>\n",
       "      <th>4</th>\n",
       "      <td>GCA_000024125.1</td>\n",
       "      <td>#9c9c9e</td>\n",
       "      <td>Unclassified</td>\n",
       "    </tr>\n",
       "  </tbody>\n",
       "</table>\n",
       "</div>"
      ],
      "text/plain": [
       "  Assembly accession    color          name\n",
       "2    GCA_000023465.1  #9c9c9e  Unclassified\n",
       "4    GCA_000024125.1  #9c9c9e  Unclassified"
      ]
     },
     "execution_count": 57,
     "metadata": {},
     "output_type": "execute_result"
    }
   ],
   "source": [
    "filt = (origin.Origin == \"Unclassified\")\n",
    "unclassified = origin.loc[filt]\n",
    "unclassified = unclassified.copy()\n",
    "unclassified.loc[:,\"name\"] = \"Unclassified\"\n",
    "unclassified.loc[:,(\"color\")] = (\"#9c9c9e\")\n",
    "unclassified = unclassified[[\"Assembly accession\", \"color\", \"name\"]]\n",
    "unclassified.head(2)"
   ]
  },
  {
   "cell_type": "code",
   "execution_count": 58,
   "metadata": {},
   "outputs": [
    {
     "data": {
      "text/html": [
       "<div>\n",
       "<style scoped>\n",
       "    .dataframe tbody tr th:only-of-type {\n",
       "        vertical-align: middle;\n",
       "    }\n",
       "\n",
       "    .dataframe tbody tr th {\n",
       "        vertical-align: top;\n",
       "    }\n",
       "\n",
       "    .dataframe thead th {\n",
       "        text-align: right;\n",
       "    }\n",
       "</style>\n",
       "<table border=\"1\" class=\"dataframe\">\n",
       "  <thead>\n",
       "    <tr style=\"text-align: right;\">\n",
       "      <th></th>\n",
       "      <th>Assembly accession</th>\n",
       "      <th>color</th>\n",
       "      <th>name</th>\n",
       "    </tr>\n",
       "  </thead>\n",
       "  <tbody>\n",
       "    <tr>\n",
       "      <th>0</th>\n",
       "      <td>GCA_000152925.3</td>\n",
       "      <td>#101070</td>\n",
       "      <td>Marine</td>\n",
       "    </tr>\n",
       "    <tr>\n",
       "      <th>1</th>\n",
       "      <td>GCA_000186265.1</td>\n",
       "      <td>#101070</td>\n",
       "      <td>Marine</td>\n",
       "    </tr>\n",
       "  </tbody>\n",
       "</table>\n",
       "</div>"
      ],
      "text/plain": [
       "  Assembly accession    color    name\n",
       "0    GCA_000152925.3  #101070  Marine\n",
       "1    GCA_000186265.1  #101070  Marine"
      ]
     },
     "execution_count": 58,
     "metadata": {},
     "output_type": "execute_result"
    }
   ],
   "source": [
    "frames = [marine, non_marine, unclassified]\n",
    "origin_colors = pd.concat(frames, keys=['Assembly accession', 'color', 'name'])\n",
    "origin_colors = origin_colors.reset_index().drop(columns=[\"level_0\",\"level_1\"])\n",
    "origin_colors.head(2)"
   ]
  },
  {
   "cell_type": "code",
   "execution_count": 59,
   "metadata": {},
   "outputs": [],
   "source": [
    "origin_colors.to_csv(\"origin_colors.tsv\", sep=\" \", header=False, index=False)"
   ]
  },
  {
   "cell_type": "code",
   "execution_count": 60,
   "metadata": {},
   "outputs": [
    {
     "data": {
      "text/plain": [
       "False    1988\n",
       "True      692\n",
       "Name: MAG, dtype: int64"
      ]
     },
     "execution_count": 60,
     "metadata": {},
     "output_type": "execute_result"
    }
   ],
   "source": [
    "metadata[\"MAG\"].value_counts()"
   ]
  },
  {
   "cell_type": "code",
   "execution_count": 61,
   "metadata": {},
   "outputs": [
    {
     "name": "stderr",
     "output_type": "stream",
     "text": [
      "<ipython-input-61-26ccb473e2d8>:3: SettingWithCopyWarning: \n",
      "A value is trying to be set on a copy of a slice from a DataFrame.\n",
      "Try using .loc[row_indexer,col_indexer] = value instead\n",
      "\n",
      "See the caveats in the documentation: https://pandas.pydata.org/pandas-docs/stable/user_guide/indexing.html#returning-a-view-versus-a-copy\n",
      "  mag['MAG'] = mag['MAG'].map(d)\n"
     ]
    },
    {
     "data": {
      "text/html": [
       "<div>\n",
       "<style scoped>\n",
       "    .dataframe tbody tr th:only-of-type {\n",
       "        vertical-align: middle;\n",
       "    }\n",
       "\n",
       "    .dataframe tbody tr th {\n",
       "        vertical-align: top;\n",
       "    }\n",
       "\n",
       "    .dataframe thead th {\n",
       "        text-align: right;\n",
       "    }\n",
       "</style>\n",
       "<table border=\"1\" class=\"dataframe\">\n",
       "  <thead>\n",
       "    <tr style=\"text-align: right;\">\n",
       "      <th></th>\n",
       "      <th>Assembly accession</th>\n",
       "      <th>MAG</th>\n",
       "    </tr>\n",
       "  </thead>\n",
       "  <tbody>\n",
       "    <tr>\n",
       "      <th>0</th>\n",
       "      <td>GCA_000016645.1</td>\n",
       "      <td>Genome</td>\n",
       "    </tr>\n",
       "    <tr>\n",
       "      <th>1</th>\n",
       "      <td>GCA_000023285.1</td>\n",
       "      <td>Genome</td>\n",
       "    </tr>\n",
       "    <tr>\n",
       "      <th>2</th>\n",
       "      <td>GCA_000023465.1</td>\n",
       "      <td>Genome</td>\n",
       "    </tr>\n",
       "    <tr>\n",
       "      <th>3</th>\n",
       "      <td>GCA_000023725.1</td>\n",
       "      <td>Genome</td>\n",
       "    </tr>\n",
       "    <tr>\n",
       "      <th>4</th>\n",
       "      <td>GCA_000024125.1</td>\n",
       "      <td>Genome</td>\n",
       "    </tr>\n",
       "  </tbody>\n",
       "</table>\n",
       "</div>"
      ],
      "text/plain": [
       "  Assembly accession     MAG\n",
       "0    GCA_000016645.1  Genome\n",
       "1    GCA_000023285.1  Genome\n",
       "2    GCA_000023465.1  Genome\n",
       "3    GCA_000023725.1  Genome\n",
       "4    GCA_000024125.1  Genome"
      ]
     },
     "execution_count": 61,
     "metadata": {},
     "output_type": "execute_result"
    }
   ],
   "source": [
    "mag = metadata[[\"Assembly accession\",\"MAG\"]]\n",
    "d = {True:\"MAG\", False:\"Genome\"}\n",
    "mag['MAG'] = mag['MAG'].map(d)\n",
    "mag.head()"
   ]
  },
  {
   "cell_type": "code",
   "execution_count": 62,
   "metadata": {},
   "outputs": [
    {
     "name": "stderr",
     "output_type": "stream",
     "text": [
      "<ipython-input-62-e734077a96a3>:1: SettingWithCopyWarning: \n",
      "A value is trying to be set on a copy of a slice from a DataFrame.\n",
      "Try using .loc[row_indexer,col_indexer] = value instead\n",
      "\n",
      "See the caveats in the documentation: https://pandas.pydata.org/pandas-docs/stable/user_guide/indexing.html#returning-a-view-versus-a-copy\n",
      "  mag[\"color\"] =[\"#dd9700\" if  str(x) == \"MAG\" else \"#00d89d\" for x in mag['MAG']]\n"
     ]
    },
    {
     "data": {
      "text/html": [
       "<div>\n",
       "<style scoped>\n",
       "    .dataframe tbody tr th:only-of-type {\n",
       "        vertical-align: middle;\n",
       "    }\n",
       "\n",
       "    .dataframe tbody tr th {\n",
       "        vertical-align: top;\n",
       "    }\n",
       "\n",
       "    .dataframe thead th {\n",
       "        text-align: right;\n",
       "    }\n",
       "</style>\n",
       "<table border=\"1\" class=\"dataframe\">\n",
       "  <thead>\n",
       "    <tr style=\"text-align: right;\">\n",
       "      <th></th>\n",
       "      <th>Assembly accession</th>\n",
       "      <th>color</th>\n",
       "      <th>MAG</th>\n",
       "    </tr>\n",
       "  </thead>\n",
       "  <tbody>\n",
       "    <tr>\n",
       "      <th>0</th>\n",
       "      <td>GCA_000016645.1</td>\n",
       "      <td>#00d89d</td>\n",
       "      <td>Genome</td>\n",
       "    </tr>\n",
       "    <tr>\n",
       "      <th>1</th>\n",
       "      <td>GCA_000023285.1</td>\n",
       "      <td>#00d89d</td>\n",
       "      <td>Genome</td>\n",
       "    </tr>\n",
       "  </tbody>\n",
       "</table>\n",
       "</div>"
      ],
      "text/plain": [
       "  Assembly accession    color     MAG\n",
       "0    GCA_000016645.1  #00d89d  Genome\n",
       "1    GCA_000023285.1  #00d89d  Genome"
      ]
     },
     "execution_count": 62,
     "metadata": {},
     "output_type": "execute_result"
    }
   ],
   "source": [
    "mag[\"color\"] =[\"#dd9700\" if  str(x) == \"MAG\" else \"#00d89d\" for x in mag['MAG']]\n",
    "mag = mag[[\"Assembly accession\", \"color\", \"MAG\"]]\n",
    "mag.head(2)"
   ]
  },
  {
   "cell_type": "code",
   "execution_count": 63,
   "metadata": {},
   "outputs": [],
   "source": [
    "mag.to_csv(\"mag_colors.tsv\", sep=\" \", header=False, index=False)"
   ]
  }
 ],
 "metadata": {
  "kernelspec": {
   "display_name": "Python 3",
   "language": "python",
   "name": "python3"
  },
  "language_info": {
   "codemirror_mode": {
    "name": "ipython",
    "version": 3
   },
   "file_extension": ".py",
   "mimetype": "text/x-python",
   "name": "python",
   "nbconvert_exporter": "python",
   "pygments_lexer": "ipython3",
   "version": "3.8.3"
  }
 },
 "nbformat": 4,
 "nbformat_minor": 4
}
