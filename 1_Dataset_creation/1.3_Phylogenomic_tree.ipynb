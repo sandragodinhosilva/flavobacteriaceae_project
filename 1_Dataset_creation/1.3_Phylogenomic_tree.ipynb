{
 "cells": [
  {
   "cell_type": "markdown",
   "metadata": {},
   "source": [
    "# 1.3 Phylogenomic tree construction"
   ]
  },
  {
   "cell_type": "markdown",
   "metadata": {},
   "source": [
    "4.1) MashTree\n",
    "\n",
    "MashTree: https://github.com/lskatz/mashtree\n",
    "Input: folder with the MAGs in fasta format."
   ]
  },
  {
   "cell_type": "markdown",
   "metadata": {},
   "source": [
    "4.1) ITOL\n",
    "\n",
    "https://itol.embl.de/\n",
    "Input: mashtree.dnd from MashTree.\n",
    "\n",
    "Note: you can use the data generated in the first step to add annotations to your ITOL tree (ex: taxonomy)."
   ]
  },
  {
   "cell_type": "markdown",
   "metadata": {},
   "source": [
    "## References"
   ]
  },
  {
   "cell_type": "markdown",
   "metadata": {},
   "source": [
    "Letunic, Ivica, and Peer Bork. “Interactive Tree Of Life (ITOL) v4: Recent Updates and New Developments.” Nucleic Acids Research 47, no. W1 (July 2, 2019): W256–59. https://doi.org/10.1093/nar/gkz239.\n",
    "\n",
    "Katz, Lee, Taylor Griswold, Shatavia Morrison, Jason Caravas, Shaokang Zhang, Henk Bakker, Xiangyu Deng, and Heather Carleton. “Mashtree: A Rapid Comparison of Whole Genome Sequence Files.” Journal of Open Source Software 4, no. 44 (December 10, 2019): 1762. https://doi.org/10.21105/joss.01762\n"
   ]
  }
 ],
 "metadata": {
  "kernelspec": {
   "display_name": "Python 3",
   "language": "python",
   "name": "python3"
  },
  "language_info": {
   "codemirror_mode": {
    "name": "ipython",
    "version": 3
   },
   "file_extension": ".py",
   "mimetype": "text/x-python",
   "name": "python",
   "nbconvert_exporter": "python",
   "pygments_lexer": "ipython3",
   "version": "3.8.3"
  }
 },
 "nbformat": 4,
 "nbformat_minor": 4
}
